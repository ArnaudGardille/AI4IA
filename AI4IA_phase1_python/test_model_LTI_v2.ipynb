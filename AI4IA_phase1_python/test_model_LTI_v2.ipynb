{
 "cells": [
  {
   "cell_type": "markdown",
   "id": "83f6e283",
   "metadata": {},
   "source": [
    "# Présentation du modèle de l'équipe MIA"
   ]
  },
  {
   "cell_type": "markdown",
   "id": "07190f21",
   "metadata": {},
   "source": [
    "## Résumé"
   ]
  },
  {
   "cell_type": "markdown",
   "id": "b57d6a0a",
   "metadata": {},
   "source": [
    "Nous avons choisit de modéliser le modèle sous jacent au signaux par un système LTI. \n",
    "Nous ne disposons pas d'une solution explicite de la réponse du système en fontion de l'entrée pour des ordres et des coefficients quelconques. Ainsi, nous utilisons le module $ \\it{Scipy} $ pour obtenir une solution approchée. \n",
    "Il ne reste plus qu'a choisir un ordre et optimiser les coefficients afin de minimiser l'équart entre la courbe prédite et celle données en exemple. "
   ]
  },
  {
   "cell_type": "markdown",
   "id": "38501563",
   "metadata": {},
   "source": [
    "## Les systèmes LTI"
   ]
  },
  {
   "cell_type": "markdown",
   "id": "1611cf3a",
   "metadata": {},
   "source": [
    "Un système linéaire et invariant dans le temps (LTI) à une entrée et une sortie peut être décrit mathématiquement par une équation différentielle à coefficient constant liant l'entrée du système et sa sortie. Ainsi, \n",
    "\n",
    "$$a_N\\frac{d^N y(t)}{dt^N}+\\cdots+a_1\\frac{d y(t)}{dt}+a_0y(t)=b_N\\frac{d^N x(t)}{dt^N}+\\cdots+b_1\\frac{d x(t)}{dt}+b_0 x(t)$$\n",
    "\n",
    "où $x(t)$ désigne l'entrée du système et $y(t)$ sa sortie et $N$ correspond à l'ordre du système. Pour analyser ces systèmes, une technique couramment utilisée consiste à passer dans le domaine de Laplace. Notons $X(p)=\\mathcal{L}[x(t)]$ et $Y(p)=\\mathcal{L}[y(t)]$ les transformées de Laplace de l'entrée et de la sortie. En utilisant le fait que la transformée de Laplace est linéaire et que $\\mathcal{L}[\\frac{d^k e(t)}{dt^k}]=p^k E(p)$, il est possible de décrire la système par la fonction suivante\n",
    "\n",
    "$$H(p)\\triangleq \\frac{Y(p)}{X(p)}=\\frac{b_N s^N+b_{N-1}p^{N-1}+\\cdots+b_1 p+b_0}{a_N p^N+a_{N-1}p^{N-1}+\\cdots+a_1 p+a_0}$$\n",
    "\n",
    "Cette fonction est appelée **fonction de transfert** du système. D'un point de vue mathématique, à l'exception des systèmes possédant un ordre faible, il est souvent plus pratique d'analyser un système dans le domaine de Laplace plutôt que dans le domaine temporel.\n",
    "\n",
    "Le langage Python permet de créer des fonctions de transfert via la classe `lti` du module `signal` de Scipy. Cette classe prend deux tableaux en entrée: un tableau contenant les coefficients du numérateur et un tableau contenant les coefficients du dénominateur. "
   ]
  },
  {
   "cell_type": "markdown",
   "id": "b9e21f21",
   "metadata": {},
   "source": [
    "# Le Modèle en action "
   ]
  },
  {
   "cell_type": "markdown",
   "id": "17fdd53c",
   "metadata": {},
   "source": [
    "### Initialisation"
   ]
  },
  {
   "cell_type": "code",
   "execution_count": 1,
   "id": "0675ca04",
   "metadata": {},
   "outputs": [],
   "source": [
    "%load_ext autoreload\n",
    "%autoreload 2\n",
    "\n",
    "from matplotlib import pyplot as plt\n",
    "import matplotlib.gridspec as gridspec\n",
    "import numpy as np\n",
    "import pandas as pd\n",
    "\n",
    "from scipy import integrate\n",
    "from scipy.interpolate import interpn,interp1d,RegularGridInterpolator, Akima1DInterpolator\n",
    "from scipy.optimize import minimize\n",
    "import scipy.signal as sig\n",
    "from scipy.optimize import least_squares, minimize\n",
    "\n",
    "import time\n",
    "from tqdm import notebook\n",
    "import importlib\n",
    "\n",
    "from sklearn.metrics import mean_absolute_error\n",
    "\n",
    "from numpy import linalg as la\n",
    "\n",
    "import sys\n",
    "from importlib import reload,import_module\n",
    "import os\n",
    "\n",
    "import sagemaker\n",
    "import boto3\n",
    "\n",
    "%matplotlib inline\n",
    "\n",
    "import copy\n",
    "\n",
    "from sources.utilities.utility_functions import *"
   ]
  },
  {
   "cell_type": "code",
   "execution_count": 2,
   "id": "16015b1a",
   "metadata": {},
   "outputs": [],
   "source": [
    "model_definition = \"model_LTI\"\n",
    "\n",
    "MyModel = import_module('sources.utilities.' + model_definition).MyModel"
   ]
  },
  {
   "cell_type": "markdown",
   "id": "c6df1c5b",
   "metadata": {},
   "source": [
    "### Entrainement du modèle sur un petit ensemble, sans AWS"
   ]
  },
  {
   "cell_type": "markdown",
   "id": "770fbaae",
   "metadata": {},
   "source": [
    "On met en forme les données, le modèle prend en entrée un dictionnaire comme construit ci-dessous pour s'entrainer. Nous avons par conséquent, un peu modifier la fonction init de test_submission pour que le format de dictionnaire soit "
   ]
  },
  {
   "cell_type": "code",
   "execution_count": 3,
   "id": "c365ade2",
   "metadata": {},
   "outputs": [],
   "source": [
    "rep_data = \"./data/DataSet_phase1/\"\n",
    "names_train = [\"input\"+str(k) for k in [0,1,2,3,4,5,6]]   ##On utilise tous les signaux pour l'entrainement\n",
    "\n",
    "dic_train = {}\n",
    "for name in names_train:\n",
    "    dic_train[name] = pd.read_csv(rep_data + name + '.csv',sep=',',index_col=False)\n",
    "\n",
    "columns_titles = ['Time','Output1','Input','Output2','Output3','Output4','Output5']\n",
    "\n",
    "for name in names_train:\n",
    "    dic_train[name].columns = columns_titles\n",
    "    dic_train[name] = dic_train[name][['Time','Input','Output1','Output2','Output3','Output4','Output5']]"
   ]
  },
  {
   "cell_type": "code",
   "execution_count": 4,
   "id": "f2f302fd",
   "metadata": {
    "scrolled": true
   },
   "outputs": [
    {
     "name": "stdout",
     "output_type": "stream",
     "text": [
      "creating\n",
      "initialising\n"
     ]
    },
    {
     "ename": "TypeError",
     "evalue": "fit() missing 1 required positional argument: 'ys'",
     "output_type": "error",
     "traceback": [
      "\u001b[0;31m---------------------------------------------------------------------------\u001b[0m",
      "\u001b[0;31mTypeError\u001b[0m                                 Traceback (most recent call last)",
      "\u001b[0;32m/var/folders/bs/0f5dcrc501sf9wtpqltg62940000gn/T/ipykernel_17463/1198589121.py\u001b[0m in \u001b[0;36m<module>\u001b[0;34m\u001b[0m\n\u001b[1;32m      6\u001b[0m     \u001b[0mmodel\u001b[0m \u001b[0;34m=\u001b[0m \u001b[0mMyModel\u001b[0m\u001b[0;34m.\u001b[0m\u001b[0mcreate_model\u001b[0m\u001b[0;34m(\u001b[0m\u001b[0mepochs_1\u001b[0m \u001b[0;34m=\u001b[0m \u001b[0;36m80\u001b[0m\u001b[0;34m,\u001b[0m \u001b[0mepochs_2\u001b[0m \u001b[0;34m=\u001b[0m \u001b[0;36m15\u001b[0m\u001b[0;34m,\u001b[0m \u001b[0mdegre\u001b[0m \u001b[0;34m=\u001b[0m \u001b[0;36m2\u001b[0m\u001b[0;34m,\u001b[0m \u001b[0mnbOutputs\u001b[0m \u001b[0;34m=\u001b[0m \u001b[0mlen\u001b[0m\u001b[0;34m(\u001b[0m\u001b[0moutputs_names\u001b[0m\u001b[0;34m)\u001b[0m\u001b[0;34m)\u001b[0m\u001b[0;34m\u001b[0m\u001b[0;34m\u001b[0m\u001b[0m\n\u001b[1;32m      7\u001b[0m \u001b[0;34m\u001b[0m\u001b[0m\n\u001b[0;32m----> 8\u001b[0;31m     \u001b[0mmodel\u001b[0m\u001b[0;34m.\u001b[0m\u001b[0mfit\u001b[0m\u001b[0;34m(\u001b[0m\u001b[0mdic_train\u001b[0m\u001b[0;34m,\u001b[0m\u001b[0mverbose\u001b[0m\u001b[0;34m=\u001b[0m\u001b[0;32mTrue\u001b[0m\u001b[0;34m)\u001b[0m   \u001b[0;31m##On travaille avec les données sous le format d'un dictionnaire\u001b[0m\u001b[0;34m\u001b[0m\u001b[0;34m\u001b[0m\u001b[0m\n\u001b[0m\u001b[1;32m      9\u001b[0m \u001b[0;34m\u001b[0m\u001b[0m\n\u001b[1;32m     10\u001b[0m     \u001b[0mretrain\u001b[0m \u001b[0;34m=\u001b[0m \u001b[0;32mFalse\u001b[0m\u001b[0;34m\u001b[0m\u001b[0;34m\u001b[0m\u001b[0m\n",
      "\u001b[0;31mTypeError\u001b[0m: fit() missing 1 required positional argument: 'ys'"
     ]
    }
   ],
   "source": [
    "retrain = True\n",
    "\n",
    "outputs_names = ['Output1','Output2','Output3','Output4','Output5']\n",
    "\n",
    "if retrain:\n",
    "    model = MyModel.create_model(epochs_1 = 80, epochs_2 = 15, degre = 2, nbOutputs = len(outputs_names))\n",
    "\n",
    "    model.fit(dic_train,verbose=True)   ##On travaille avec les données sous le format d'un dictionnaire\n",
    "    \n",
    "    retrain = False"
   ]
  },
  {
   "cell_type": "code",
   "execution_count": null,
   "id": "d2647a6b",
   "metadata": {},
   "outputs": [],
   "source": [
    "input_train = 'input5'\n",
    "\n",
    "output_pred_train = model.predict_timeseries(np.array(dic_train[input_train]['Input']))\n",
    "outputs_indexes = [0,1]\n",
    "outputs_names = ['Output1','Output2','Output3','Output4','Output5']\n",
    "\n",
    "fig,ax = plt.subplots(1,1,figsize=(9,6))\n",
    "for k in range(len(outputs_indexes)):\n",
    "    plt.plot(dic_train[input_train]['Time'],dic_train[input_train][outputs_names[k]],'b') \n",
    "    plt.plot(dic_train[input_train]['Time'],output_pred_train[:,outputs_indexes[k]],'--r')\n",
    "    plt.grid()\n",
    "    plt.legend([\"ref.\",\"pred\"])"
   ]
  },
  {
   "cell_type": "code",
   "execution_count": null,
   "id": "e83b0442",
   "metadata": {
    "scrolled": true
   },
   "outputs": [],
   "source": [
    "file_test  = \"input6.csv\"   ##Modifier ici avec de nouveaux inputs qui ne sont pas dans l'échantillon d'entrainement\n",
    "t_test,x_test,y_test = load_data_csv(rep_data+file_test)\n",
    "\n",
    "y_pred = model.predict_timeseries(x_test)\n",
    "\n",
    "outputs_indexes = [0,1,2,3,4]    \n",
    "for k in range(len(outputs_indexes)):\n",
    "    plt.figure()\n",
    "    plt.plot(t_test,y_test[:,outputs_indexes[k]],'b')\n",
    "    plt.plot(t_test,y_pred[:,k],'--r') \n",
    "    plt.grid()\n",
    "    plt.legend([\"ref.\",\"pred\"])        "
   ]
  },
  {
   "cell_type": "markdown",
   "id": "356f19f8",
   "metadata": {},
   "source": [
    "### Tests unitaires"
   ]
  },
  {
   "cell_type": "markdown",
   "id": "69dc1cdb",
   "metadata": {},
   "source": [
    "Le modèle prend en entrée un dictionnaire comme construit ci-dessous pour s'entrainer. Nous avons par conséquent, un peu modifier la fonction init de test_submission."
   ]
  },
  {
   "cell_type": "code",
   "execution_count": null,
   "id": "aaa569c6",
   "metadata": {
    "scrolled": true
   },
   "outputs": [],
   "source": [
    "if sys.platform == \"win32\":\n",
    "    #!python sources/utilities/test_submission.py my_model1\n",
    "    !python sources/utilities/test_submission_v2.py model_LTI_v2\n",
    "else:\n",
    "    #!python3 sources/utilities/test_submission.py my_model1\n",
    "    !python3 sources/utilities/test_submission_v2.py model_LTI_v2"
   ]
  },
  {
   "cell_type": "code",
   "execution_count": null,
   "id": "7ac5e4cc",
   "metadata": {},
   "outputs": [],
   "source": [
    "if sys.platform == 'linux':\n",
    "    !pygmentize \"./sources/utilities/model_LTI_v2.py\""
   ]
  }
 ],
 "metadata": {
  "kernelspec": {
   "display_name": "Python 3 (ipykernel)",
   "language": "python",
   "name": "python3"
  },
  "language_info": {
   "codemirror_mode": {
    "name": "ipython",
    "version": 3
   },
   "file_extension": ".py",
   "mimetype": "text/x-python",
   "name": "python",
   "nbconvert_exporter": "python",
   "pygments_lexer": "ipython3",
   "version": "3.8.12"
  }
 },
 "nbformat": 4,
 "nbformat_minor": 5
}
